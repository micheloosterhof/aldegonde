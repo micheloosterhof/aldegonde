{
 "cells": [
  {
   "cell_type": "code",
   "execution_count": null,
   "id": "9237ab5a",
   "metadata": {},
   "outputs": [],
   "source": [
    "%matplotlib inline"
   ]
  },
  {
   "cell_type": "code",
   "execution_count": null,
   "id": "767a14a4",
   "metadata": {},
   "outputs": [],
   "source": [
    "import aldegonde\n",
    "import requests\n",
    "import matplotlib.pyplot as plt\n",
    "from collections import Counter\n",
    "\n",
    "from aldegonde.structures.alphabet import UPPERCASE_ALPHABET\n",
    "from aldegonde.structures.sequence import Sequence\n",
    "\n",
    "from aldegonde.algorithm.autokey import ciphertext_autokey_vigenere_encrypt\n",
    "from aldegonde.algorithm.autokey import plaintext_autokey_vigenere_encrypt\n",
    "\n",
    "from aldegonde.algorithm.autokey import ciphertext_autokey_beaufort_encrypt\n",
    "from aldegonde.algorithm.autokey import plaintext_autokey_beaufort_encrypt\n",
    "\n",
    "from aldegonde.algorithm.autokey import ciphertext_autokey_variant_beaufort_encrypt\n",
    "from aldegonde.algorithm.autokey import plaintext_autokey_variant_beaufort_encrypt\n",
    "\n",
    "from aldegonde.stats.doublets import print_doublets_statistics\n",
    "from aldegonde.stats.dist import dist\n",
    "\n",
    "from aldegonde.grams.bigram_diagram import print_bigram_diagram, bigram_diagram"
   ]
  },
  {
   "cell_type": "code",
   "execution_count": null,
   "id": "c160ec26",
   "metadata": {},
   "outputs": [],
   "source": [
    "ALICE_URL=\"https://gist.githubusercontent.com/phillipj/4944029/raw/75ba2243dd5ec2875f629bf5d79f6c1e4b5a8b46/alice_in_wonderland.txt\"\n",
    "alicetxt = str(requests.get(ALICE_URL).content.upper())\n",
    "\n",
    "alice = Sequence(text=alicetxt, alphabet=UPPERCASE_ALPHABET)\n",
    "primer = Sequence(text=\"D\", alphabet=UPPERCASE_ALPHABET)\n",
    "print(Counter(alice))"
   ]
  },
  {
   "cell_type": "code",
   "execution_count": null,
   "id": "8e6634ac",
   "metadata": {},
   "outputs": [],
   "source": [
    "pav = plaintext_autokey_vigenere_encrypt(alice, primer)\n",
    "pab = plaintext_autokey_beaufort_encrypt(alice, primer)\n",
    "pavb = plaintext_autokey_variant_beaufort_encrypt(alice, primer)\n",
    "\n",
    "cav = ciphertext_autokey_vigenere_encrypt(alice, primer)\n",
    "cab = ciphertext_autokey_beaufort_encrypt(alice, primer)\n",
    "cavb = ciphertext_autokey_variant_beaufort_encrypt(alice, primer)"
   ]
  },
  {
   "cell_type": "code",
   "execution_count": null,
   "id": "397163a0",
   "metadata": {},
   "outputs": [],
   "source": [
    "def pyplot_bigram(runes: Sequence, title: str = \"Bigram Plot\") -> None:\n",
    "    \"\"\"\n",
    "    print bigram distribution using pyplot\n",
    "    \"\"\"\n",
    "    bg = bigram_diagram(runes)\n",
    "\n",
    "    fig, ax = plt.subplots()\n",
    "    fig.set_dpi(300)\n",
    "    plt.rcParams['figure.figsize'] = [20, 20]\n",
    "    plt.title(title)\n",
    "    \n",
    "    ax.matshow(bg, cmap=plt.cm.Blues)\n",
    "    sx = ax.secondary_xaxis('bottom')\n",
    "    sy = ax.secondary_yaxis('right')\n",
    "    ax.set_xticks(range(0,26))\n",
    "    ax.set_yticks(range(0,26))\n",
    "    sx.set_xticks(range(0,26))\n",
    "    sy.set_yticks(range(0,26))\n",
    "    sx.set_xticklabels(runes.alphabet.alphabet)\n",
    "    sy.set_yticklabels(runes.alphabet.alphabet)\n",
    " \n",
    "    for i in range(0, len(runes.alphabet)):\n",
    "        for j in range(0, len(runes.alphabet)):\n",
    "            c = bg[j][i]\n",
    "            ax.text(i, j, str(c), va='center', ha='center', fontsize=15)    \n",
    "    \n",
    "    plt.show()"
   ]
  },
  {
   "cell_type": "code",
   "execution_count": null,
   "id": "bb4da061",
   "metadata": {},
   "outputs": [],
   "source": [
    "pyplot_bigram(pav, \"Alice in Wonderland - Plaintext Autokey Vigenere\")\n",
    "print_doublets_statistics(pav)"
   ]
  },
  {
   "cell_type": "code",
   "execution_count": null,
   "id": "1b8a67e6",
   "metadata": {},
   "outputs": [],
   "source": [
    "pyplot_bigram(pab, \"Alice in Wonderland - Plaintext Autokey Beaufort\")\n",
    "print_doublets_statistics(pab)"
   ]
  },
  {
   "cell_type": "code",
   "execution_count": null,
   "id": "2583bc31",
   "metadata": {},
   "outputs": [],
   "source": [
    "pyplot_bigram(pavb, \"Alice in Wonderland - Plaintext Autokey Variant Beaufort\")\n",
    "print_doublets_statistics(pavb)"
   ]
  },
  {
   "cell_type": "code",
   "execution_count": null,
   "id": "450e2b64",
   "metadata": {},
   "outputs": [],
   "source": [
    "pyplot_bigram(cav, \"Alice in Wonderland - Plaintext Autokey Vigenere\")\n",
    "print_doublets_statistics(cav)"
   ]
  },
  {
   "cell_type": "code",
   "execution_count": null,
   "id": "ebf076f6",
   "metadata": {},
   "outputs": [],
   "source": [
    "pyplot_bigram(cab, \"Alice in Wonderland - Ciphertext Autokey Beaufort\")"
   ]
  },
  {
   "cell_type": "code",
   "execution_count": null,
   "id": "fbbafa3d",
   "metadata": {},
   "outputs": [],
   "source": [
    "pyplot_bigram(cavb, \"Alice in Wonderland - Ciphertext Autokey Variant Beaufort\")"
   ]
  },
  {
   "cell_type": "code",
   "execution_count": null,
   "id": "46345456",
   "metadata": {},
   "outputs": [],
   "source": []
  },
  {
   "cell_type": "code",
   "execution_count": null,
   "id": "7e2f861d",
   "metadata": {},
   "outputs": [],
   "source": []
  }
 ],
 "metadata": {
  "kernelspec": {
   "display_name": "Python 3 (ipykernel)",
   "language": "python",
   "name": "python3"
  },
  "language_info": {
   "codemirror_mode": {
    "name": "ipython",
    "version": 3
   },
   "file_extension": ".py",
   "mimetype": "text/x-python",
   "name": "python",
   "nbconvert_exporter": "python",
   "pygments_lexer": "ipython3",
   "version": "3.9.12"
  }
 },
 "nbformat": 4,
 "nbformat_minor": 5
}
