{
 "cells": [
  {
   "cell_type": "code",
   "execution_count": null,
   "id": "07de1564",
   "metadata": {},
   "outputs": [],
   "source": [
    "%matplotlib inline"
   ]
  },
  {
   "cell_type": "code",
   "execution_count": null,
   "id": "6f1a4ff2",
   "metadata": {},
   "outputs": [],
   "source": [
    "import aldegonde\n",
    "import requests\n",
    "import matplotlib.pyplot as plt\n",
    "from collections import Counter\n",
    "\n",
    "from aldegonde.structures.alphabet import UPPERCASE_ALPHABET\n",
    "from aldegonde.structures import cicada3301\n",
    "from aldegonde.structures.sequence import Sequence\n",
    "\n",
    "from aldegonde.algorithm.autokey import ciphertext_autokey_vigenere_encrypt\n",
    "from aldegonde.algorithm.autokey import plaintext_autokey_vigenere_encrypt\n",
    "\n",
    "from aldegonde.algorithm.autokey import ciphertext_autokey_beaufort_encrypt\n",
    "from aldegonde.algorithm.autokey import plaintext_autokey_beaufort_encrypt\n",
    "\n",
    "from aldegonde.algorithm.autokey import ciphertext_autokey_variant_beaufort_encrypt\n",
    "from aldegonde.algorithm.autokey import plaintext_autokey_variant_beaufort_encrypt\n",
    "\n",
    "from aldegonde.stats.doublets import print_doublets_statistics\n",
    "from aldegonde.stats.dist import dist\n",
    "\n",
    "from aldegonde.grams.bigram_diagram import print_bigram_diagram, bigram_diagram"
   ]
  },
  {
   "cell_type": "code",
   "execution_count": null,
   "id": "568aefa9",
   "metadata": {},
   "outputs": [],
   "source": [
    "ALICE_URL=\"https://gist.githubusercontent.com/phillipj/4944029/raw/75ba2243dd5ec2875f629bf5d79f6c1e4b5a8b46/alice_in_wonderland.txt\"\n",
    "alicetxt = str(requests.get(ALICE_URL).content.upper())\n",
    "with open(\"liber-primus__transcription--master.txt\") as fd:\n",
    "    lp = fd.read()\n",
    "\n",
    "liberprimus = Sequence(text=lp, alphabet=cicada3301.CICADA_ALPHABET)\n",
    "primer = Sequence(data=[0], alphabet=cicada3301.CICADA_ALPHABET)"
   ]
  },
  {
   "cell_type": "code",
   "execution_count": null,
   "id": "12e610fd",
   "metadata": {},
   "outputs": [],
   "source": [
    "def michel_pyplot_bigram(runes: Sequence, title: str = \"Bigram Plot\") -> None:\n",
    "    \"\"\"\n",
    "    print bigram distribution using pyplot\n",
    "    \"\"\"\n",
    "    bg = bigram_diagram(runes)\n",
    "    plt.rcParams['font.family'] = \"sans-serif\" #\"Segoe UI Historic\"\n",
    "    plt.rcParams['font.sans-serif'] = \"Verdana\"\n",
    "\n",
    "    fig, ax = plt.subplots()\n",
    "    fig.set_dpi(300)\n",
    "    plt.rcParams['figure.figsize'] = [20, 20]\n",
    "    plt.title(title)\n",
    "    \n",
    "    ax.matshow(bg, cmap=plt.cm.Blues)\n",
    "    sx = ax.secondary_xaxis('bottom')\n",
    "    sy = ax.secondary_yaxis('right')\n",
    "    ax.set_xticks(range(0,len(runes.alphabet)))\n",
    "    ax.set_yticks(range(0,len(runes.alphabet)))\n",
    "    sx.set_xticks(range(0,len(runes.alphabet)))\n",
    "    sy.set_yticks(range(0,len(runes.alphabet)))\n",
    "    sx.set_xticklabels(runes.alphabet.alphabet)\n",
    "    sy.set_yticklabels(runes.alphabet.alphabet)\n",
    " \n",
    "    for i in range(0, len(runes.alphabet)):\n",
    "        for j in range(0, len(runes.alphabet)):\n",
    "            c = bg[j][i]\n",
    "            ax.text(i, j, str(c), va='center', ha='center', fontsize=15)    \n",
    "    \n",
    "    plt.show()"
   ]
  },
  {
   "cell_type": "code",
   "execution_count": null,
   "id": "42e31dc0",
   "metadata": {},
   "outputs": [],
   "source": [
    "cav = ciphertext_autokey_vigenere_encrypt(alice, primer)\n",
    "cab = ciphertext_autokey_beaufort_encrypt(alice, primer)\n",
    "cavb = ciphertext_autokey_variant_beaufort_encrypt(alice, primer)\n",
    "\n",
    "pav = plaintext_autokey_vigenere_encrypt(alice, primer)\n",
    "pab = plaintext_autokey_beaufort_encrypt(alice, primer)\n",
    "avb = plaintext_autokey_variant_beaufort_encrypt(alice, primer)"
   ]
  },
  {
   "cell_type": "code",
   "execution_count": null,
   "id": "fe603ab8",
   "metadata": {},
   "outputs": [],
   "source": [
    "michel_pyplot_bigram(liberprimus, \"Liber Primus\")"
   ]
  },
  {
   "cell_type": "code",
   "execution_count": null,
   "id": "ed5cc70e",
   "metadata": {},
   "outputs": [],
   "source": [
    "michel_pyplot_bigram(cak, \"Ciphertext Autokey Alice in Wonderland\")"
   ]
  },
  {
   "cell_type": "code",
   "execution_count": null,
   "id": "a4f581ae",
   "metadata": {},
   "outputs": [],
   "source": []
  },
  {
   "cell_type": "code",
   "execution_count": null,
   "id": "e2b747c2",
   "metadata": {},
   "outputs": [],
   "source": []
  }
 ],
 "metadata": {
  "kernelspec": {
   "display_name": "Python 3 (ipykernel)",
   "language": "python",
   "name": "python3"
  },
  "language_info": {
   "codemirror_mode": {
    "name": "ipython",
    "version": 3
   },
   "file_extension": ".py",
   "mimetype": "text/x-python",
   "name": "python",
   "nbconvert_exporter": "python",
   "pygments_lexer": "ipython3",
   "version": "3.9.12"
  }
 },
 "nbformat": 4,
 "nbformat_minor": 5
}
